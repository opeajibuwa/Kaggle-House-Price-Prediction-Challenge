{
 "cells": [
  {
   "cell_type": "markdown",
   "id": "3b52a94d",
   "metadata": {},
   "source": [
    "#### import needed libraries"
   ]
  },
  {
   "cell_type": "code",
   "execution_count": 347,
   "id": "4b408a72",
   "metadata": {},
   "outputs": [],
   "source": [
    "import pandas as pd\n",
    "from datetime import datetime\n",
    "import numpy as np"
   ]
  },
  {
   "cell_type": "markdown",
   "id": "4895a5a7",
   "metadata": {},
   "source": [
    "#### batch gradient descent algorithm"
   ]
  },
  {
   "cell_type": "code",
   "execution_count": 348,
   "id": "b3ac1d39",
   "metadata": {},
   "outputs": [],
   "source": [
    "def gradient_train(X, y, lr, stopping_threshold, itr=float(\"inf\")):\n",
    "    \n",
    "    counter = 0\n",
    "    weight = np.zeros(X.shape[1])\n",
    "    loss_list = [np.power(X.dot(weight) - y, 2).mean()]\n",
    "    \n",
    "    while counter < itr:\n",
    "        delta_w = X.multiply((X.dot(weight) - y), axis=0).mean() * 2\n",
    "        weight = weight - lr * delta_w\n",
    "        loss = np.power(X.dot(weight) - y, 2).mean()\n",
    "        loss_list.append(loss)\n",
    "        \n",
    "        if np.linalg.norm(delta_w) <= stopping_threshold or loss == np.nan or loss == float(\"inf\"):\n",
    "            break\n",
    "            \n",
    "        counter += 1\n",
    "        \n",
    "    print(\"itr={}, lr={}, loss={}\".format(counter, lr, loss))\n",
    "    return weight, loss_list"
   ]
  },
  {
   "cell_type": "markdown",
   "id": "224dc3e8",
   "metadata": {},
   "source": [
    "#### load in the training data"
   ]
  },
  {
   "cell_type": "code",
   "execution_count": 349,
   "id": "7d642043",
   "metadata": {
    "scrolled": true
   },
   "outputs": [],
   "source": [
    "train_data = pd.read_csv(\"ia1/PA1_train1.csv\")"
   ]
  },
  {
   "cell_type": "code",
   "execution_count": 350,
   "id": "9338df45",
   "metadata": {},
   "outputs": [
    {
     "data": {
      "text/html": [
       "<div>\n",
       "<style scoped>\n",
       "    .dataframe tbody tr th:only-of-type {\n",
       "        vertical-align: middle;\n",
       "    }\n",
       "\n",
       "    .dataframe tbody tr th {\n",
       "        vertical-align: top;\n",
       "    }\n",
       "\n",
       "    .dataframe thead th {\n",
       "        text-align: right;\n",
       "    }\n",
       "</style>\n",
       "<table border=\"1\" class=\"dataframe\">\n",
       "  <thead>\n",
       "    <tr style=\"text-align: right;\">\n",
       "      <th></th>\n",
       "      <th>id</th>\n",
       "      <th>date</th>\n",
       "      <th>bedrooms</th>\n",
       "      <th>bathrooms</th>\n",
       "      <th>sqft_living</th>\n",
       "      <th>sqft_lot</th>\n",
       "      <th>floors</th>\n",
       "      <th>waterfront</th>\n",
       "      <th>view</th>\n",
       "      <th>condition</th>\n",
       "      <th>...</th>\n",
       "      <th>sqft_above</th>\n",
       "      <th>sqft_basement</th>\n",
       "      <th>yr_built</th>\n",
       "      <th>yr_renovated</th>\n",
       "      <th>zipcode</th>\n",
       "      <th>lat</th>\n",
       "      <th>long</th>\n",
       "      <th>sqft_living15</th>\n",
       "      <th>sqft_lot15</th>\n",
       "      <th>price</th>\n",
       "    </tr>\n",
       "  </thead>\n",
       "  <tbody>\n",
       "    <tr>\n",
       "      <th>0</th>\n",
       "      <td>3066410850</td>\n",
       "      <td>7/9/2014</td>\n",
       "      <td>4</td>\n",
       "      <td>2.50</td>\n",
       "      <td>2720</td>\n",
       "      <td>10006</td>\n",
       "      <td>2.0</td>\n",
       "      <td>0</td>\n",
       "      <td>0</td>\n",
       "      <td>3</td>\n",
       "      <td>...</td>\n",
       "      <td>2720</td>\n",
       "      <td>0</td>\n",
       "      <td>1989</td>\n",
       "      <td>0</td>\n",
       "      <td>98074</td>\n",
       "      <td>47.6295</td>\n",
       "      <td>-122.042</td>\n",
       "      <td>2720</td>\n",
       "      <td>10759</td>\n",
       "      <td>5.9495</td>\n",
       "    </tr>\n",
       "    <tr>\n",
       "      <th>1</th>\n",
       "      <td>9345400350</td>\n",
       "      <td>7/18/2014</td>\n",
       "      <td>2</td>\n",
       "      <td>2.50</td>\n",
       "      <td>2600</td>\n",
       "      <td>5000</td>\n",
       "      <td>1.0</td>\n",
       "      <td>0</td>\n",
       "      <td>0</td>\n",
       "      <td>5</td>\n",
       "      <td>...</td>\n",
       "      <td>1300</td>\n",
       "      <td>1300</td>\n",
       "      <td>1926</td>\n",
       "      <td>0</td>\n",
       "      <td>98126</td>\n",
       "      <td>47.5806</td>\n",
       "      <td>-122.379</td>\n",
       "      <td>2260</td>\n",
       "      <td>5000</td>\n",
       "      <td>6.6500</td>\n",
       "    </tr>\n",
       "    <tr>\n",
       "      <th>2</th>\n",
       "      <td>7128300060</td>\n",
       "      <td>7/7/2014</td>\n",
       "      <td>5</td>\n",
       "      <td>1.75</td>\n",
       "      <td>1650</td>\n",
       "      <td>3000</td>\n",
       "      <td>1.5</td>\n",
       "      <td>0</td>\n",
       "      <td>0</td>\n",
       "      <td>3</td>\n",
       "      <td>...</td>\n",
       "      <td>1650</td>\n",
       "      <td>0</td>\n",
       "      <td>1902</td>\n",
       "      <td>0</td>\n",
       "      <td>98144</td>\n",
       "      <td>47.5955</td>\n",
       "      <td>-122.306</td>\n",
       "      <td>1740</td>\n",
       "      <td>4000</td>\n",
       "      <td>4.4300</td>\n",
       "    </tr>\n",
       "    <tr>\n",
       "      <th>3</th>\n",
       "      <td>2155500030</td>\n",
       "      <td>4/28/2015</td>\n",
       "      <td>4</td>\n",
       "      <td>1.75</td>\n",
       "      <td>1720</td>\n",
       "      <td>9600</td>\n",
       "      <td>1.0</td>\n",
       "      <td>0</td>\n",
       "      <td>0</td>\n",
       "      <td>4</td>\n",
       "      <td>...</td>\n",
       "      <td>1720</td>\n",
       "      <td>0</td>\n",
       "      <td>1969</td>\n",
       "      <td>0</td>\n",
       "      <td>98059</td>\n",
       "      <td>47.4764</td>\n",
       "      <td>-122.155</td>\n",
       "      <td>1660</td>\n",
       "      <td>10720</td>\n",
       "      <td>3.8000</td>\n",
       "    </tr>\n",
       "    <tr>\n",
       "      <th>4</th>\n",
       "      <td>3999300080</td>\n",
       "      <td>9/4/2014</td>\n",
       "      <td>6</td>\n",
       "      <td>2.25</td>\n",
       "      <td>3830</td>\n",
       "      <td>11180</td>\n",
       "      <td>1.0</td>\n",
       "      <td>0</td>\n",
       "      <td>2</td>\n",
       "      <td>5</td>\n",
       "      <td>...</td>\n",
       "      <td>2440</td>\n",
       "      <td>1390</td>\n",
       "      <td>1962</td>\n",
       "      <td>0</td>\n",
       "      <td>98008</td>\n",
       "      <td>47.5849</td>\n",
       "      <td>-122.113</td>\n",
       "      <td>2500</td>\n",
       "      <td>10400</td>\n",
       "      <td>8.8700</td>\n",
       "    </tr>\n",
       "  </tbody>\n",
       "</table>\n",
       "<p>5 rows × 21 columns</p>\n",
       "</div>"
      ],
      "text/plain": [
       "           id       date  bedrooms  bathrooms  sqft_living  sqft_lot  floors  \\\n",
       "0  3066410850   7/9/2014         4       2.50         2720     10006     2.0   \n",
       "1  9345400350  7/18/2014         2       2.50         2600      5000     1.0   \n",
       "2  7128300060   7/7/2014         5       1.75         1650      3000     1.5   \n",
       "3  2155500030  4/28/2015         4       1.75         1720      9600     1.0   \n",
       "4  3999300080   9/4/2014         6       2.25         3830     11180     1.0   \n",
       "\n",
       "   waterfront  view  condition  ...  sqft_above  sqft_basement  yr_built  \\\n",
       "0           0     0          3  ...        2720              0      1989   \n",
       "1           0     0          5  ...        1300           1300      1926   \n",
       "2           0     0          3  ...        1650              0      1902   \n",
       "3           0     0          4  ...        1720              0      1969   \n",
       "4           0     2          5  ...        2440           1390      1962   \n",
       "\n",
       "   yr_renovated  zipcode      lat     long  sqft_living15  sqft_lot15   price  \n",
       "0             0    98074  47.6295 -122.042           2720       10759  5.9495  \n",
       "1             0    98126  47.5806 -122.379           2260        5000  6.6500  \n",
       "2             0    98144  47.5955 -122.306           1740        4000  4.4300  \n",
       "3             0    98059  47.4764 -122.155           1660       10720  3.8000  \n",
       "4             0    98008  47.5849 -122.113           2500       10400  8.8700  \n",
       "\n",
       "[5 rows x 21 columns]"
      ]
     },
     "execution_count": 350,
     "metadata": {},
     "output_type": "execute_result"
    }
   ],
   "source": [
    "train_data.head(5)"
   ]
  },
  {
   "cell_type": "markdown",
   "id": "a6d52f65",
   "metadata": {},
   "source": [
    "### Create new features out of the dataset"
   ]
  },
  {
   "cell_type": "markdown",
   "id": "df0b7a8d",
   "metadata": {},
   "source": [
    "##### Do one-hot encoding of the zipcode column"
   ]
  },
  {
   "cell_type": "code",
   "execution_count": 351,
   "id": "c154eb50",
   "metadata": {},
   "outputs": [],
   "source": [
    "train_zipcode = pd.get_dummies(train_data['zipcode'])"
   ]
  },
  {
   "cell_type": "markdown",
   "id": "d68572d0",
   "metadata": {},
   "source": [
    "##### Drop id, sq_ft_living15 and zipcode columns"
   ]
  },
  {
   "cell_type": "code",
   "execution_count": 352,
   "id": "a341f99c",
   "metadata": {
    "scrolled": true
   },
   "outputs": [],
   "source": [
    "train_data = train_data.drop(['id', 'sqft_living15', 'zipcode'], axis=1)"
   ]
  },
  {
   "cell_type": "markdown",
   "id": "6c444034",
   "metadata": {},
   "source": [
    "##### make a new feature column representing the amount of unused residential space"
   ]
  },
  {
   "cell_type": "code",
   "execution_count": 353,
   "id": "b28b5bb7",
   "metadata": {},
   "outputs": [],
   "source": [
    "train_data['unused_space'] = train_data['sqft_lot'] - train_data['sqft_living']"
   ]
  },
  {
   "cell_type": "markdown",
   "id": "f418e954",
   "metadata": {},
   "source": [
    "##### make a new feature column to represent how long the residence has been built"
   ]
  },
  {
   "cell_type": "code",
   "execution_count": 354,
   "id": "47849d14",
   "metadata": {},
   "outputs": [],
   "source": [
    "train_data['date'] = pd.to_datetime(train_data['date'])\n",
    "train_data.loc[train_data['yr_renovated'] == 0, 'days_since_built'] = (datetime.today() - train_data['date']).dt.days\n",
    "train_data.loc[train_data['yr_renovated'] != 0, 'days_since_built'] = (datetime.today() - pd.to_datetime(train_data['yr_renovated'])).dt.days"
   ]
  },
  {
   "cell_type": "markdown",
   "id": "f72772da",
   "metadata": {},
   "source": [
    "##### make a column feature to represent the geographical location of the house"
   ]
  },
  {
   "cell_type": "code",
   "execution_count": 355,
   "id": "e2056c75",
   "metadata": {},
   "outputs": [],
   "source": [
    "lat_mean = train_data['lat'].mean()\n",
    "long_mean = train_data['long'].mean()\n",
    "train_data.loc[(train_data['lat'] > lat_mean) & (train_data['long'] > long_mean), 'northeast'] = 1\n",
    "train_data.loc[(train_data['lat'] > lat_mean) & (train_data['long'] <= long_mean), 'northwest'] = 1\n",
    "train_data.loc[(train_data['lat'] <= lat_mean) & (train_data['long'] > long_mean), 'southeast'] = 1\n",
    "train_data.loc[(train_data['lat'] <= lat_mean) & (train_data['long'] <= long_mean), 'southwest'] = 1"
   ]
  },
  {
   "cell_type": "markdown",
   "id": "082a0f23",
   "metadata": {},
   "source": [
    "##### create a new feature to represent if residential space is the largest in its neighborhood of 15"
   ]
  },
  {
   "cell_type": "code",
   "execution_count": 356,
   "id": "cf77349b",
   "metadata": {},
   "outputs": [],
   "source": [
    "train_data.loc[train_data['sqft_lot'] > train_data['sqft_lot15'], 'biggest_in_neighborhood'] = 1"
   ]
  },
  {
   "cell_type": "markdown",
   "id": "37fad22d",
   "metadata": {},
   "source": [
    "### Do other feature engineering"
   ]
  },
  {
   "cell_type": "code",
   "execution_count": 357,
   "id": "5dfdc8a3",
   "metadata": {},
   "outputs": [],
   "source": [
    "train_data['year'] = train_data['date'].dt.year\n",
    "train_data['month'] = train_data['date'].dt.month\n",
    "train_data['day'] = train_data['date'].dt.day\n",
    "train_data = train_data.drop('date', axis=1)\n",
    "\n",
    "train_data['dummy'] = np.ones(train_data.shape[0])\n",
    "\n",
    "train_data.loc[train_data['yr_renovated'] == 0, 'age_since_renovated'] = train_data['year'] - train_data['yr_built']\n",
    "train_data.loc[train_data['yr_renovated'] != 0, 'age_since_renovated'] = train_data['year'] - train_data['yr_renovated']"
   ]
  },
  {
   "cell_type": "code",
   "execution_count": 358,
   "id": "348b2b5d",
   "metadata": {},
   "outputs": [
    {
     "data": {
      "text/plain": [
       "0       5.9495\n",
       "1       6.6500\n",
       "2       4.4300\n",
       "3       3.8000\n",
       "4       8.8700\n",
       "         ...  \n",
       "9995    3.9000\n",
       "9996    1.3500\n",
       "9997    4.2000\n",
       "9998    7.7000\n",
       "9999    2.8500\n",
       "Name: price, Length: 10000, dtype: float64"
      ]
     },
     "execution_count": 358,
     "metadata": {},
     "output_type": "execute_result"
    }
   ],
   "source": [
    "train_data['price']"
   ]
  },
  {
   "cell_type": "markdown",
   "id": "08eaf2f7",
   "metadata": {},
   "source": [
    "#### Data normalization and fill nas"
   ]
  },
  {
   "cell_type": "code",
   "execution_count": 359,
   "id": "57c405aa",
   "metadata": {},
   "outputs": [],
   "source": [
    "column_mean = [0] * train_data.shape[1]\n",
    "column_std = [0] * train_data.shape[1]\n",
    "\n",
    "train_data = train_data.fillna(0)\n",
    "\n",
    "columns = ['waterfront', 'dummy', 'northeast', 'southeast', 'northwest', 'southwest', 'biggest_in_neighborhood']\n",
    "for index, column in enumerate(train_data.drop('price', axis=1).columns):\n",
    "    if column in columns:\n",
    "        continue\n",
    "    column_mean[index] = train_data[column].mean()\n",
    "    column_std[index] = train_data[column].std()\n",
    "    train_data[column] = (train_data[column] - column_mean[index]) / column_std[index]\n",
    "    \n",
    "train_data = pd.concat([train_data, train_zipcode], axis=1)"
   ]
  },
  {
   "cell_type": "markdown",
   "id": "784bbf31",
   "metadata": {},
   "source": [
    "#### train the batch gradient algorithm on our training data"
   ]
  },
  {
   "cell_type": "code",
   "execution_count": 361,
   "id": "c2c73cf0",
   "metadata": {},
   "outputs": [
    {
     "name": "stdout",
     "output_type": "stream",
     "text": [
      "itr=10000, lr=0.1, loss=2.4150828220602585\n"
     ]
    }
   ],
   "source": [
    "weight, mse = gradient_train(train_data.drop('price', axis=1), train_data['price'], 0.1, 1e-7, 10000)"
   ]
  },
  {
   "cell_type": "markdown",
   "id": "7eb030db",
   "metadata": {},
   "source": [
    "#### retrain the model using only features with positive weights"
   ]
  },
  {
   "cell_type": "code",
   "execution_count": 362,
   "id": "2c3a7015",
   "metadata": {
    "scrolled": true
   },
   "outputs": [
    {
     "name": "stdout",
     "output_type": "stream",
     "text": [
      "bedrooms      -0.193361\n",
      "bathrooms      0.208352\n",
      "sqft_living    0.843519\n",
      "sqft_lot       0.068581\n",
      "floors        -0.249106\n",
      "                 ...   \n",
      "98177         -1.380808\n",
      "98178         -1.067465\n",
      "98188         -1.020521\n",
      "98198         -1.165842\n",
      "98199          0.843458\n",
      "Length: 98, dtype: float64\n"
     ]
    }
   ],
   "source": [
    "print(weight)"
   ]
  },
  {
   "cell_type": "code",
   "execution_count": 363,
   "id": "2da67555",
   "metadata": {},
   "outputs": [],
   "source": [
    "dc = dict(weight)\n",
    "\n",
    "most_imp_feature = []\n",
    "for key in dc:\n",
    "    if dc[key] < 0:\n",
    "        continue\n",
    "    most_imp_feature.append(key)\n",
    "    \n",
    "most_imp_feature.append(\"price\")"
   ]
  },
  {
   "cell_type": "code",
   "execution_count": 364,
   "id": "a3d55f95",
   "metadata": {},
   "outputs": [],
   "source": [
    "#weight, mse = gradient_train(train_data[most_imp_feature].drop('price', axis=1), train_data[most_imp_feature]['price'], 0.1, 1e-7, 10000)"
   ]
  },
  {
   "cell_type": "markdown",
   "id": "3e0d3357",
   "metadata": {},
   "source": [
    "#### Load in the test data"
   ]
  },
  {
   "cell_type": "code",
   "execution_count": 365,
   "id": "6f24c21a",
   "metadata": {},
   "outputs": [],
   "source": [
    "test_data = pd.read_csv(\"ia1/PA1_test1.csv\")\n",
    "submission = test_data['id']"
   ]
  },
  {
   "cell_type": "markdown",
   "id": "6c5d83fd",
   "metadata": {},
   "source": [
    "#### Do the same feature engineering done on the train data also on the test data"
   ]
  },
  {
   "cell_type": "code",
   "execution_count": 366,
   "id": "7dd6da27",
   "metadata": {
    "scrolled": true
   },
   "outputs": [],
   "source": [
    "# one-hot encoding of test data\n",
    "test_zipcode = pd.get_dummies(test_data['zipcode'])\n",
    "\n",
    "# drop id, sqft_living and zipcode columns\n",
    "test_data = test_data.drop(['id', 'sqft_living15', 'zipcode'], axis=1)\n",
    "\n",
    "# ununsed residential space\n",
    "test_data['unused_space'] = test_data['sqft_lot'] - test_data['sqft_living']\n",
    "\n",
    "# how long the residence has been built\n",
    "test_data['date'] = pd.to_datetime(test_data['date'])\n",
    "test_data.loc[test_data['yr_renovated'] == 0, 'days_since_built'] = (datetime.today() - test_data['date']).dt.days\n",
    "test_data.loc[test_data['yr_renovated'] != 0, 'days_since_built'] = (datetime.today() - pd.to_datetime(test_data['yr_renovated'])).dt.days\n",
    "\n",
    "# geographical location of the house\n",
    "test_data.loc[(test_data['lat'] > lat_mean) & (test_data['long'] > long_mean), 'northeast'] = 1\n",
    "test_data.loc[(test_data['lat'] > lat_mean) & (test_data['long'] <= long_mean), 'northwest'] = 1\n",
    "test_data.loc[(test_data['lat'] <= lat_mean) & (test_data['long'] > long_mean), 'southeast'] = 1\n",
    "test_data.loc[(test_data['lat'] <= lat_mean) & (test_data['long'] <= long_mean), 'southwest'] = 1\n",
    "\n",
    "#largest in the neighborhood\n",
    "test_data.loc[test_data['sqft_lot'] > test_data['sqft_lot15'], 'biggest_in_neighborhood'] = 1\n",
    "\n",
    "# other feature engineering\n",
    "test_data['date'] = pd.to_datetime(test_data['date'])\n",
    "test_data['year'] = test_data['date'].dt.year\n",
    "test_data['month'] = test_data['date'].dt.month\n",
    "test_data['day'] = test_data['date'].dt.day\n",
    "test_data = test_data.drop('date', axis=1)\n",
    "\n",
    "test_data['dummy'] = np.ones(test_data.shape[0])\n",
    "\n",
    "test_data.loc[test_data['yr_renovated'] == 0, 'age_since_renovated'] = test_data['year'] - test_data['yr_built']\n",
    "test_data.loc[test_data['yr_renovated'] != 0, 'age_since_renovated'] = test_data['year'] - test_data['yr_renovated']\n",
    "\n",
    "test_data = test_data.fillna(0)\n",
    "\n",
    "# normalize the test data\n",
    "for index, column in enumerate(test_data.columns):\n",
    "    if column in columns:\n",
    "        continue\n",
    "    test_data[column] = (test_data[column] - column_mean[index]) / column_std[index]\n",
    "        \n",
    "# join the modified zipcode df to the rest of the test data\n",
    "test_data = pd.concat([test_data, test_zipcode], axis=1)\n",
    "\n",
    "# # filter the test dataset using only the most important features\n",
    "# size = len(most_imp_feature)\n",
    "# test_data = test_data[most_imp_feature[:size-1]]"
   ]
  },
  {
   "cell_type": "code",
   "execution_count": 367,
   "id": "e8b6355f",
   "metadata": {},
   "outputs": [
    {
     "name": "stdout",
     "output_type": "stream",
     "text": [
      "(10000, 99)\n",
      "(5583, 98)\n"
     ]
    }
   ],
   "source": [
    "print(train_data.shape)\n",
    "print(test_data.shape)"
   ]
  },
  {
   "cell_type": "markdown",
   "id": "b5531172",
   "metadata": {},
   "source": [
    "#### predict price with the trained weights from our batch gradient algorithm"
   ]
  },
  {
   "cell_type": "code",
   "execution_count": 368,
   "id": "d161d99a",
   "metadata": {},
   "outputs": [],
   "source": [
    "predict_price = test_data.dot(weight)"
   ]
  },
  {
   "cell_type": "code",
   "execution_count": 369,
   "id": "d7a64cb4",
   "metadata": {},
   "outputs": [],
   "source": [
    "submission = pd.DataFrame({'id': submission, 'price': predict_price})\n",
    "submission.to_csv('submission.csv', index=False)"
   ]
  }
 ],
 "metadata": {
  "kernelspec": {
   "display_name": "Python 3 (ipykernel)",
   "language": "python",
   "name": "python3"
  },
  "language_info": {
   "codemirror_mode": {
    "name": "ipython",
    "version": 3
   },
   "file_extension": ".py",
   "mimetype": "text/x-python",
   "name": "python",
   "nbconvert_exporter": "python",
   "pygments_lexer": "ipython3",
   "version": "3.9.12"
  }
 },
 "nbformat": 4,
 "nbformat_minor": 5
}
